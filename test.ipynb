{
 "cells": [
  {
   "cell_type": "code",
   "execution_count": 3,
   "metadata": {},
   "outputs": [
    {
     "name": "stdout",
     "output_type": "stream",
     "text": [
      "QR Code ถูกสร้างและบันทึกไว้ในไฟล์ 'qrcode.png'\n"
     ]
    }
   ],
   "source": [
    "import qrcode\n",
    "\n",
    "# กำหนด URL ที่ต้องการ\n",
    "url = \"https://choppertnt.github.io/Thanathorn_Boonyakijjinda_webprofile/\"\n",
    "\n",
    "# สร้าง QR Code\n",
    "qr = qrcode.QRCode(\n",
    "    version=1,  # ขนาดของ QR Code (1 คือเล็กที่สุด)\n",
    "    error_correction=qrcode.constants.ERROR_CORRECT_L,  # ระดับการแก้ไขข้อผิดพลาด\n",
    "    box_size=10,  # ขนาดของกล่องแต่ละช่องใน QR Code\n",
    "    border=4,  # ความกว้างของขอบ\n",
    ")\n",
    "qr.add_data(url)\n",
    "qr.make(fit=True)\n",
    "\n",
    "# สร้างรูปภาพ QR Code\n",
    "img = qr.make_image(fill_color=\"black\", back_color=\"white\")\n",
    "\n",
    "# บันทึกไฟล์ QR Code\n",
    "img.save(r\"D:\\Resume_2024\\qrcode.png\")\n",
    "\n",
    "print(\"QR Code ถูกสร้างและบันทึกไว้ในไฟล์ 'qrcode.png'\")\n"
   ]
  },
  {
   "cell_type": "code",
   "execution_count": 2,
   "metadata": {},
   "outputs": [
    {
     "name": "stdout",
     "output_type": "stream",
     "text": [
      "Collecting qrcode\n",
      "  Downloading qrcode-8.0-py3-none-any.whl (45 kB)\n",
      "     ---------------------------------------- 45.7/45.7 kB 2.4 MB/s eta 0:00:00\n",
      "Requirement already satisfied: colorama in c:\\users\\chopp\\appdata\\roaming\\python\\python311\\site-packages (from qrcode) (0.4.6)\n",
      "Installing collected packages: qrcode\n",
      "Successfully installed qrcode-8.0\n",
      "Note: you may need to restart the kernel to use updated packages.\n"
     ]
    },
    {
     "name": "stderr",
     "output_type": "stream",
     "text": [
      "  WARNING: The script qr.exe is installed in 'c:\\Users\\chopp\\AppData\\Local\\Programs\\Python\\Python311\\Scripts' which is not on PATH.\n",
      "  Consider adding this directory to PATH or, if you prefer to suppress this warning, use --no-warn-script-location.\n",
      "\n",
      "[notice] A new release of pip available: 22.3.1 -> 24.3.1\n",
      "[notice] To update, run: python.exe -m pip install --upgrade pip\n"
     ]
    }
   ],
   "source": [
    "pip install qrcode"
   ]
  }
 ],
 "metadata": {
  "kernelspec": {
   "display_name": "Python 3",
   "language": "python",
   "name": "python3"
  },
  "language_info": {
   "codemirror_mode": {
    "name": "ipython",
    "version": 3
   },
   "file_extension": ".py",
   "mimetype": "text/x-python",
   "name": "python",
   "nbconvert_exporter": "python",
   "pygments_lexer": "ipython3",
   "version": "3.11.1"
  }
 },
 "nbformat": 4,
 "nbformat_minor": 2
}
